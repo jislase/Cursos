{
 "cells": [
  {
   "cell_type": "code",
   "execution_count": 1,
   "metadata": {
    "collapsed": true
   },
   "outputs": [],
   "source": [
    "import numpy as np\n",
    "from pandas import Series, DataFrame\n",
    "import pandas as pd\n",
    "from numpy.random import randn"
   ]
  },
  {
   "cell_type": "code",
   "execution_count": 2,
   "metadata": {
    "collapsed": false
   },
   "outputs": [
    {
     "data": {
      "text/plain": [
       "A    1\n",
       "B    2\n",
       "C    3\n",
       "D    4\n",
       "dtype: int64"
      ]
     },
     "execution_count": 2,
     "metadata": {},
     "output_type": "execute_result"
    }
   ],
   "source": [
    "#Vamos a crear una nueva Serie\n",
    "ser1 = Series([1,2,3,4],index=['A','B','C','D'])\n",
    "\n",
    "#Mostrar\n",
    "ser1"
   ]
  },
  {
   "cell_type": "code",
   "execution_count": 3,
   "metadata": {
    "collapsed": false
   },
   "outputs": [
    {
     "data": {
      "text/plain": [
       "A    1.0\n",
       "B    2.0\n",
       "C    3.0\n",
       "D    4.0\n",
       "E    NaN\n",
       "F    NaN\n",
       "dtype: float64"
      ]
     },
     "execution_count": 3,
     "metadata": {},
     "output_type": "execute_result"
    }
   ],
   "source": [
    "#Usamos reindex reacomodar los datos con un nuevo indice\n",
    "ser2 = ser1.reindex(['A','B','C','D','E','F'])\n",
    "\n",
    "#Mostrar\n",
    "ser2"
   ]
  },
  {
   "cell_type": "code",
   "execution_count": 4,
   "metadata": {
    "collapsed": false
   },
   "outputs": [
    {
     "data": {
      "text/plain": [
       "A    1.0\n",
       "B    2.0\n",
       "C    3.0\n",
       "D    4.0\n",
       "E    NaN\n",
       "F    NaN\n",
       "G    0.0\n",
       "dtype: float64"
      ]
     },
     "execution_count": 4,
     "metadata": {},
     "output_type": "execute_result"
    }
   ],
   "source": [
    "#Podemos llenar con datos los valores de nuestros nuevos indices\n",
    "ser2.reindex(['A','B','C','D','E','F','G'],fill_value=0)"
   ]
  },
  {
   "cell_type": "code",
   "execution_count": 5,
   "metadata": {
    "collapsed": false
   },
   "outputs": [
    {
     "data": {
      "text/plain": [
       "0        USA\n",
       "5     Mexico\n",
       "10    Canada\n",
       "dtype: object"
      ]
     },
     "execution_count": 5,
     "metadata": {},
     "output_type": "execute_result"
    }
   ],
   "source": [
    "#Usamos un metodo particular para llenar los valores\n",
    "ser3 = Series(['USA','Mexico','Canada'],index=[0,5,10])\n",
    "\n",
    "#Mostrar\n",
    "ser3"
   ]
  },
  {
   "cell_type": "code",
   "execution_count": 6,
   "metadata": {
    "collapsed": false
   },
   "outputs": [
    {
     "data": {
      "text/plain": [
       "0        USA\n",
       "1        USA\n",
       "2        USA\n",
       "3        USA\n",
       "4        USA\n",
       "5     Mexico\n",
       "6     Mexico\n",
       "7     Mexico\n",
       "8     Mexico\n",
       "9     Mexico\n",
       "10    Canada\n",
       "11    Canada\n",
       "12    Canada\n",
       "13    Canada\n",
       "14    Canada\n",
       "dtype: object"
      ]
     },
     "execution_count": 6,
     "metadata": {},
     "output_type": "execute_result"
    }
   ],
   "source": [
    "#Podemos usar forward fill para interpolar los valores entre los indices \n",
    "ser3.reindex(range(15),method='ffill')"
   ]
  },
  {
   "cell_type": "code",
   "execution_count": 7,
   "metadata": {
    "collapsed": false
   },
   "outputs": [
    {
     "data": {
      "text/html": [
       "<div>\n",
       "<table border=\"1\" class=\"dataframe\">\n",
       "  <thead>\n",
       "    <tr style=\"text-align: right;\">\n",
       "      <th></th>\n",
       "      <th>col1</th>\n",
       "      <th>col2</th>\n",
       "      <th>col3</th>\n",
       "      <th>col4</th>\n",
       "      <th>col5</th>\n",
       "    </tr>\n",
       "  </thead>\n",
       "  <tbody>\n",
       "    <tr>\n",
       "      <th>A</th>\n",
       "      <td>-0.800725</td>\n",
       "      <td>-1.222106</td>\n",
       "      <td>-1.467020</td>\n",
       "      <td>0.477072</td>\n",
       "      <td>1.383734</td>\n",
       "    </tr>\n",
       "    <tr>\n",
       "      <th>B</th>\n",
       "      <td>1.425452</td>\n",
       "      <td>-1.360375</td>\n",
       "      <td>-0.960143</td>\n",
       "      <td>1.802578</td>\n",
       "      <td>-0.465294</td>\n",
       "    </tr>\n",
       "    <tr>\n",
       "      <th>D</th>\n",
       "      <td>0.766763</td>\n",
       "      <td>0.193383</td>\n",
       "      <td>-0.548036</td>\n",
       "      <td>-0.811512</td>\n",
       "      <td>-1.319129</td>\n",
       "    </tr>\n",
       "    <tr>\n",
       "      <th>E</th>\n",
       "      <td>-0.386042</td>\n",
       "      <td>1.315012</td>\n",
       "      <td>0.201846</td>\n",
       "      <td>0.915889</td>\n",
       "      <td>0.962708</td>\n",
       "    </tr>\n",
       "    <tr>\n",
       "      <th>F</th>\n",
       "      <td>-0.059088</td>\n",
       "      <td>1.052267</td>\n",
       "      <td>0.210022</td>\n",
       "      <td>-0.834185</td>\n",
       "      <td>0.603822</td>\n",
       "    </tr>\n",
       "  </tbody>\n",
       "</table>\n",
       "</div>"
      ],
      "text/plain": [
       "       col1      col2      col3      col4      col5\n",
       "A -0.800725 -1.222106 -1.467020  0.477072  1.383734\n",
       "B  1.425452 -1.360375 -0.960143  1.802578 -0.465294\n",
       "D  0.766763  0.193383 -0.548036 -0.811512 -1.319129\n",
       "E -0.386042  1.315012  0.201846  0.915889  0.962708\n",
       "F -0.059088  1.052267  0.210022 -0.834185  0.603822"
      ]
     },
     "execution_count": 7,
     "metadata": {},
     "output_type": "execute_result"
    }
   ],
   "source": [
    "#Reindizando filas, columnas o ambas\n",
    "\n",
    "#Creamos un DataFrame con algunos valores aleatorios\n",
    "dframe = DataFrame(randn(25).reshape((5,5)),index=['A','B','D','E','F'],columns=['col1','col2','col3','col4','col5'])\n",
    "\n",
    "#Mostrar\n",
    "dframe"
   ]
  },
  {
   "cell_type": "code",
   "execution_count": 9,
   "metadata": {
    "collapsed": false
   },
   "outputs": [
    {
     "data": {
      "text/html": [
       "<div>\n",
       "<table border=\"1\" class=\"dataframe\">\n",
       "  <thead>\n",
       "    <tr style=\"text-align: right;\">\n",
       "      <th></th>\n",
       "      <th>col1</th>\n",
       "      <th>col2</th>\n",
       "      <th>col3</th>\n",
       "      <th>col4</th>\n",
       "      <th>col5</th>\n",
       "      <th>col6</th>\n",
       "    </tr>\n",
       "  </thead>\n",
       "  <tbody>\n",
       "    <tr>\n",
       "      <th>A</th>\n",
       "      <td>-0.800725</td>\n",
       "      <td>-1.222106</td>\n",
       "      <td>-1.467020</td>\n",
       "      <td>0.477072</td>\n",
       "      <td>1.383734</td>\n",
       "      <td>NaN</td>\n",
       "    </tr>\n",
       "    <tr>\n",
       "      <th>B</th>\n",
       "      <td>1.425452</td>\n",
       "      <td>-1.360375</td>\n",
       "      <td>-0.960143</td>\n",
       "      <td>1.802578</td>\n",
       "      <td>-0.465294</td>\n",
       "      <td>NaN</td>\n",
       "    </tr>\n",
       "    <tr>\n",
       "      <th>C</th>\n",
       "      <td>NaN</td>\n",
       "      <td>NaN</td>\n",
       "      <td>NaN</td>\n",
       "      <td>NaN</td>\n",
       "      <td>NaN</td>\n",
       "      <td>NaN</td>\n",
       "    </tr>\n",
       "    <tr>\n",
       "      <th>D</th>\n",
       "      <td>0.766763</td>\n",
       "      <td>0.193383</td>\n",
       "      <td>-0.548036</td>\n",
       "      <td>-0.811512</td>\n",
       "      <td>-1.319129</td>\n",
       "      <td>NaN</td>\n",
       "    </tr>\n",
       "    <tr>\n",
       "      <th>E</th>\n",
       "      <td>-0.386042</td>\n",
       "      <td>1.315012</td>\n",
       "      <td>0.201846</td>\n",
       "      <td>0.915889</td>\n",
       "      <td>0.962708</td>\n",
       "      <td>NaN</td>\n",
       "    </tr>\n",
       "    <tr>\n",
       "      <th>F</th>\n",
       "      <td>-0.059088</td>\n",
       "      <td>1.052267</td>\n",
       "      <td>0.210022</td>\n",
       "      <td>-0.834185</td>\n",
       "      <td>0.603822</td>\n",
       "      <td>NaN</td>\n",
       "    </tr>\n",
       "  </tbody>\n",
       "</table>\n",
       "</div>"
      ],
      "text/plain": [
       "       col1      col2      col3      col4      col5  col6\n",
       "A -0.800725 -1.222106 -1.467020  0.477072  1.383734   NaN\n",
       "B  1.425452 -1.360375 -0.960143  1.802578 -0.465294   NaN\n",
       "C       NaN       NaN       NaN       NaN       NaN   NaN\n",
       "D  0.766763  0.193383 -0.548036 -0.811512 -1.319129   NaN\n",
       "E -0.386042  1.315012  0.201846  0.915889  0.962708   NaN\n",
       "F -0.059088  1.052267  0.210022 -0.834185  0.603822   NaN"
      ]
     },
     "execution_count": 9,
     "metadata": {},
     "output_type": "execute_result"
    }
   ],
   "source": [
    "#Olvidamos 'C' , vamos a reindizarlo\n",
    "dframe2 = dframe.reindex(['A','B','C','D','E','F'])\n",
    "\n",
    "#Tambien podemos reindizar columnas explicitamente\n",
    "new_columns = ['col1','col2','col3','col4','col5','col6']\n",
    "\n",
    "dframe2.reindex(columns=new_columns)"
   ]
  },
  {
   "cell_type": "code",
   "execution_count": 10,
   "metadata": {
    "collapsed": false
   },
   "outputs": [
    {
     "data": {
      "text/html": [
       "<div>\n",
       "<table border=\"1\" class=\"dataframe\">\n",
       "  <thead>\n",
       "    <tr style=\"text-align: right;\">\n",
       "      <th></th>\n",
       "      <th>col1</th>\n",
       "      <th>col2</th>\n",
       "      <th>col3</th>\n",
       "      <th>col4</th>\n",
       "      <th>col5</th>\n",
       "    </tr>\n",
       "  </thead>\n",
       "  <tbody>\n",
       "    <tr>\n",
       "      <th>A</th>\n",
       "      <td>-0.800725</td>\n",
       "      <td>-1.222106</td>\n",
       "      <td>-1.467020</td>\n",
       "      <td>0.477072</td>\n",
       "      <td>1.383734</td>\n",
       "    </tr>\n",
       "    <tr>\n",
       "      <th>B</th>\n",
       "      <td>1.425452</td>\n",
       "      <td>-1.360375</td>\n",
       "      <td>-0.960143</td>\n",
       "      <td>1.802578</td>\n",
       "      <td>-0.465294</td>\n",
       "    </tr>\n",
       "    <tr>\n",
       "      <th>D</th>\n",
       "      <td>0.766763</td>\n",
       "      <td>0.193383</td>\n",
       "      <td>-0.548036</td>\n",
       "      <td>-0.811512</td>\n",
       "      <td>-1.319129</td>\n",
       "    </tr>\n",
       "    <tr>\n",
       "      <th>E</th>\n",
       "      <td>-0.386042</td>\n",
       "      <td>1.315012</td>\n",
       "      <td>0.201846</td>\n",
       "      <td>0.915889</td>\n",
       "      <td>0.962708</td>\n",
       "    </tr>\n",
       "    <tr>\n",
       "      <th>F</th>\n",
       "      <td>-0.059088</td>\n",
       "      <td>1.052267</td>\n",
       "      <td>0.210022</td>\n",
       "      <td>-0.834185</td>\n",
       "      <td>0.603822</td>\n",
       "    </tr>\n",
       "  </tbody>\n",
       "</table>\n",
       "</div>"
      ],
      "text/plain": [
       "       col1      col2      col3      col4      col5\n",
       "A -0.800725 -1.222106 -1.467020  0.477072  1.383734\n",
       "B  1.425452 -1.360375 -0.960143  1.802578 -0.465294\n",
       "D  0.766763  0.193383 -0.548036 -0.811512 -1.319129\n",
       "E -0.386042  1.315012  0.201846  0.915889  0.962708\n",
       "F -0.059088  1.052267  0.210022 -0.834185  0.603822"
      ]
     },
     "execution_count": 10,
     "metadata": {},
     "output_type": "execute_result"
    }
   ],
   "source": [
    "#Podemos reindizar rapidamente usando la etiqueta con ix\n",
    "\n",
    "#Mostrar original\n",
    "dframe"
   ]
  },
  {
   "cell_type": "code",
   "execution_count": 11,
   "metadata": {
    "collapsed": false
   },
   "outputs": [
    {
     "data": {
      "text/html": [
       "<div>\n",
       "<table border=\"1\" class=\"dataframe\">\n",
       "  <thead>\n",
       "    <tr style=\"text-align: right;\">\n",
       "      <th></th>\n",
       "      <th>col1</th>\n",
       "      <th>col2</th>\n",
       "      <th>col3</th>\n",
       "      <th>col4</th>\n",
       "      <th>col5</th>\n",
       "      <th>col6</th>\n",
       "    </tr>\n",
       "  </thead>\n",
       "  <tbody>\n",
       "    <tr>\n",
       "      <th>A</th>\n",
       "      <td>-0.800725</td>\n",
       "      <td>-1.222106</td>\n",
       "      <td>-1.467020</td>\n",
       "      <td>0.477072</td>\n",
       "      <td>1.383734</td>\n",
       "      <td>NaN</td>\n",
       "    </tr>\n",
       "    <tr>\n",
       "      <th>B</th>\n",
       "      <td>1.425452</td>\n",
       "      <td>-1.360375</td>\n",
       "      <td>-0.960143</td>\n",
       "      <td>1.802578</td>\n",
       "      <td>-0.465294</td>\n",
       "      <td>NaN</td>\n",
       "    </tr>\n",
       "    <tr>\n",
       "      <th>C</th>\n",
       "      <td>NaN</td>\n",
       "      <td>NaN</td>\n",
       "      <td>NaN</td>\n",
       "      <td>NaN</td>\n",
       "      <td>NaN</td>\n",
       "      <td>NaN</td>\n",
       "    </tr>\n",
       "    <tr>\n",
       "      <th>D</th>\n",
       "      <td>0.766763</td>\n",
       "      <td>0.193383</td>\n",
       "      <td>-0.548036</td>\n",
       "      <td>-0.811512</td>\n",
       "      <td>-1.319129</td>\n",
       "      <td>NaN</td>\n",
       "    </tr>\n",
       "    <tr>\n",
       "      <th>E</th>\n",
       "      <td>-0.386042</td>\n",
       "      <td>1.315012</td>\n",
       "      <td>0.201846</td>\n",
       "      <td>0.915889</td>\n",
       "      <td>0.962708</td>\n",
       "      <td>NaN</td>\n",
       "    </tr>\n",
       "    <tr>\n",
       "      <th>F</th>\n",
       "      <td>-0.059088</td>\n",
       "      <td>1.052267</td>\n",
       "      <td>0.210022</td>\n",
       "      <td>-0.834185</td>\n",
       "      <td>0.603822</td>\n",
       "      <td>NaN</td>\n",
       "    </tr>\n",
       "  </tbody>\n",
       "</table>\n",
       "</div>"
      ],
      "text/plain": [
       "       col1      col2      col3      col4      col5  col6\n",
       "A -0.800725 -1.222106 -1.467020  0.477072  1.383734   NaN\n",
       "B  1.425452 -1.360375 -0.960143  1.802578 -0.465294   NaN\n",
       "C       NaN       NaN       NaN       NaN       NaN   NaN\n",
       "D  0.766763  0.193383 -0.548036 -0.811512 -1.319129   NaN\n",
       "E -0.386042  1.315012  0.201846  0.915889  0.962708   NaN\n",
       "F -0.059088  1.052267  0.210022 -0.834185  0.603822   NaN"
      ]
     },
     "execution_count": 11,
     "metadata": {},
     "output_type": "execute_result"
    }
   ],
   "source": [
    "dframe.ix[['A','B','C','D','E','F'],new_columns]"
   ]
  },
  {
   "cell_type": "code",
   "execution_count": null,
   "metadata": {
    "collapsed": true
   },
   "outputs": [],
   "source": []
  }
 ],
 "metadata": {
  "kernelspec": {
   "display_name": "Python [python3]",
   "language": "python",
   "name": "Python [python3]"
  },
  "language_info": {
   "codemirror_mode": {
    "name": "ipython",
    "version": 3
   },
   "file_extension": ".py",
   "mimetype": "text/x-python",
   "name": "python",
   "nbconvert_exporter": "python",
   "pygments_lexer": "ipython3",
   "version": "3.5.2"
  }
 },
 "nbformat": 4,
 "nbformat_minor": 0
}
